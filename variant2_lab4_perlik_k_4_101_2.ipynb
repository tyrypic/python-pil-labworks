{
  "cells": [
    {
      "cell_type": "markdown",
      "metadata": {
        "id": "view-in-github",
        "colab_type": "text"
      },
      "source": [
        "<a href=\"https://colab.research.google.com/github/tyrypic/python-pil-labworks/blob/main/variant2_lab4_perlik_k_4_101_2.ipynb\" target=\"_parent\"><img src=\"https://colab.research.google.com/assets/colab-badge.svg\" alt=\"Open In Colab\"/></a>"
      ]
    },
    {
      "cell_type": "markdown",
      "id": "ea1319ac",
      "metadata": {
        "id": "ea1319ac"
      },
      "source": [
        "# Лабораторная работа №4: «Фильтрация изображений»\n",
        "**Вариант 2**\n",
        "\n",
        "**Цель:** Познакомиться с основными способами фильтрации изображений из библиотеки алгоритмов компьютерного зрения OpenCV.\n",
        "\n",
        "**Задание:**\n",
        "1. Для всех изображений применить усредняющий фильтр, фильтр Гаусса и медианный фильтр с размерами ядра 3×3, 5×5, 7×7, 9×9. Сравнить результаты, пояснить, для каких изображений лучше применять каждый из фильтров. Построить и проанализировать гистограммы оригинальных и полученных изображений. Обсудить применимость гистограмм для анализа преобразований.\n",
        "2. С использованием `cv2.filter2D` реализовать фильтры Превитта, Собеля и Робертса. Описать результаты фильтрации и проанализировать их на основе гистограмм.\n",
        "\n",
        "*Исходные файлы разместите в папке `images/`, результаты сохраняйте в `output/`.*"
      ]
    },
    {
      "cell_type": "code",
      "execution_count": 1,
      "id": "c00f20d7",
      "metadata": {
        "colab": {
          "base_uri": "https://localhost:8080/"
        },
        "id": "c00f20d7",
        "outputId": "9b2e0487-bfc5-4b63-b8b4-838f32648cdf"
      },
      "outputs": [
        {
          "output_type": "stream",
          "name": "stdout",
          "text": [
            "Обработка завершена. Результаты сохранены в папке output.\n"
          ]
        }
      ],
      "source": [
        "import cv2\n",
        "import numpy as np\n",
        "import os\n",
        "import matplotlib.pyplot as plt\n",
        "\n",
        "# Директории\n",
        "os.makedirs('output', exist_ok=True)\n",
        "image_dir = 'images'\n",
        "image_paths = [os.path.join(image_dir, f) for f in os.listdir(image_dir)\n",
        "               if f.lower().endswith(('.png', '.jpg', '.jpeg'))]\n",
        "output_dir = 'output'\n",
        "\n",
        "def plot_and_save_hist(img, title, fname):\n",
        "    plt.figure()\n",
        "    plt.hist(img.ravel(), bins=256, range=(0,255))\n",
        "    plt.title(title)\n",
        "    plt.xlabel('Интенсивность')\n",
        "    plt.ylabel('Частота')\n",
        "    plt.savefig(os.path.join(output_dir, fname))\n",
        "    plt.close()\n",
        "\n",
        "# 1. Применение простых фильтров\n",
        "kernel_sizes = [3, 5, 7, 9]\n",
        "for path in image_paths:\n",
        "    img = cv2.imread(path)\n",
        "    gray = cv2.cvtColor(img, cv2.COLOR_BGR2GRAY)\n",
        "    base = os.path.splitext(os.path.basename(path))[0]\n",
        "\n",
        "    # Сохраняем оригинал и гистограмму\n",
        "    cv2.imwrite(os.path.join(output_dir, f'{base}_gray.png'), gray)\n",
        "    plot_and_save_hist(gray, f'{base} - оригинал (gray)', f'{base}_hist_original.png')\n",
        "\n",
        "    for k in kernel_sizes:\n",
        "        # Усредняющий\n",
        "        blur = cv2.blur(gray, (k, k))\n",
        "        cv2.imwrite(os.path.join(output_dir, f'{base}_blur_{k}.png'), blur)\n",
        "        plot_and_save_hist(blur, f'{base} - blur {k}x{k}', f'{base}_hist_blur_{k}.png')\n",
        "\n",
        "        # Гауссовский\n",
        "        gauss = cv2.GaussianBlur(gray, (k, k), 0)\n",
        "        cv2.imwrite(os.path.join(output_dir, f'{base}_gauss_{k}.png'), gauss)\n",
        "        plot_and_save_hist(gauss, f'{base} - gauss {k}x{k}', f'{base}_hist_gauss_{k}.png')\n",
        "\n",
        "        # Медианный\n",
        "        median = cv2.medianBlur(gray, k)\n",
        "        cv2.imwrite(os.path.join(output_dir, f'{base}_median_{k}.png'), median)\n",
        "        plot_and_save_hist(median, f'{base} - median {k}', f'{base}_hist_median_{k}.png')\n",
        "\n",
        "# 2. Реализация собственных фильтров через filter2D\n",
        "filters = {\n",
        "    'prewitt_x': np.array([[-1, 0, 1], [-1, 0, 1], [-1, 0, 1]], dtype=np.float32),\n",
        "    'prewitt_y': np.array([[-1,-1,-1], [0,0,0], [1,1,1]], dtype=np.float32),\n",
        "    'sobel_x':   np.array([[-1,0,1], [-2,0,2], [-1,0,1]], dtype=np.float32),\n",
        "    'sobel_y':   np.array([[-1,-2,-1], [0,0,0], [1,2,1]], dtype=np.float32),\n",
        "    'roberts_x': np.array([[1,0], [0,-1]], dtype=np.float32),\n",
        "    'roberts_y': np.array([[0,1], [-1,0]], dtype=np.float32),\n",
        "}\n",
        "\n",
        "for path in image_paths:\n",
        "    img_gray = cv2.imread(path, cv2.IMREAD_GRAYSCALE)\n",
        "    base = os.path.splitext(os.path.basename(path))[0]\n",
        "\n",
        "    for name, kernel in filters.items():\n",
        "        filtered = cv2.filter2D(img_gray, -1, kernel)\n",
        "        cv2.imwrite(os.path.join(output_dir, f'{base}_{name}.png'), filtered)\n",
        "        plot_and_save_hist(filtered, f'{base} - {name}', f'{base}_hist_{name}.png')\n",
        "\n",
        "print('Обработка завершена. Результаты сохранены в папке output.')"
      ]
    }
  ],
  "metadata": {
    "colab": {
      "provenance": [],
      "include_colab_link": true
    },
    "language_info": {
      "name": "python"
    },
    "kernelspec": {
      "name": "python3",
      "display_name": "Python 3"
    }
  },
  "nbformat": 4,
  "nbformat_minor": 5
}