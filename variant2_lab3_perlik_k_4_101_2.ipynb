{
  "cells": [
    {
      "cell_type": "markdown",
      "metadata": {
        "id": "view-in-github",
        "colab_type": "text"
      },
      "source": [
        "<a href=\"https://colab.research.google.com/github/tyrypic/python-pil-labworks/blob/main/variant2_lab3_perlik_k_4_101_2.ipynb\" target=\"_parent\"><img src=\"https://colab.research.google.com/assets/colab-badge.svg\" alt=\"Open In Colab\"/></a>"
      ]
    },
    {
      "cell_type": "markdown",
      "id": "cde7d739",
      "metadata": {
        "id": "cde7d739"
      },
      "source": [
        "# Лабораторная работа №3: «Гистограмма и преобразование интенсивностей полутоновых изображений»\n",
        "**Вариант 2**\n",
        "\n",
        "**Цель:** Освоить способы трансформации изображения попиксельной обработкой и использование гистограмм.\n",
        "\n",
        "**Задание:**\n",
        "1. Возьмите полученную в 1-й лабораторной работе картинку и переведите её в grayscale-режим  \n",
        "   (Y = 0.2126·R + 0.7152·G + 0.0722·B), далее используйте это полутоновое изображение вместе с тремя другими полутоновыми картинками.\n",
        "2. Постройте гистограммы всех изображений.\n",
        "3. Выполните логарифмическое преобразование изображений, постройте гистограммы результатов.\n",
        "4. Выполните степенные (гамма) преобразования изображений, постройте гистограммы результатов.\n",
        "5. Реализуйте кусочно-линейные преобразования с двумя разными наборами параметров, постройте гистограммы.\n",
        "6. Выполните пороговую сегментацию для многопиковых гистограмм, локализуйте отдельные объекты и покажите результаты.\n",
        "\n",
        "*Исходные файлы разместите в папке `images/`, результаты будете сохранять в `output/`.*"
      ]
    },
    {
      "cell_type": "code",
      "execution_count": 2,
      "id": "6782c6b8",
      "metadata": {
        "colab": {
          "base_uri": "https://localhost:8080/"
        },
        "id": "6782c6b8",
        "outputId": "0ebf9a64-193e-4e2a-852f-b05d0e8e3f53"
      },
      "outputs": [
        {
          "output_type": "stream",
          "name": "stdout",
          "text": [
            "Обработка завершена. Результаты сохранены в папке output.\n"
          ]
        }
      ],
      "source": [
        "import os\n",
        "from PIL import Image\n",
        "import numpy as np\n",
        "import matplotlib.pyplot as plt\n",
        "\n",
        "# Создаем директорию для выходных файлов\n",
        "output_dir = 'output'\n",
        "os.makedirs(output_dir, exist_ok=True)\n",
        "\n",
        "# Пути к исходным изображениям (замените на свои файлы)\n",
        "image_paths = [\n",
        "    'images/lab1_input.png',    # результат первой лаб. работы\n",
        "    'images/gray1.jpg',\n",
        "    'images/gray2.jpg',\n",
        "    'images/gray3.jpg'\n",
        "]\n",
        "\n",
        "def rgb_to_gray(image):\n",
        "    \"\"\"Преобразование в полутоновый канал по формуле Y = 0.2126 R + 0.7152 G + 0.0722 B.\"\"\"\n",
        "    arr = np.array(image).astype(float)\n",
        "    y = 0.2126 * arr[...,0] + 0.7152 * arr[...,1] + 0.0722 * arr[...,2]\n",
        "    gray = np.uint8(y)\n",
        "    return Image.fromarray(gray)\n",
        "\n",
        "def plot_histogram(arr, title, filename):\n",
        "    \"\"\"Строим и сохраняем гистограмму.\"\"\"\n",
        "    plt.figure()\n",
        "    plt.hist(arr.ravel(), bins=256, range=(0,255))\n",
        "    plt.title(title)\n",
        "    plt.xlabel('Интенсивность')\n",
        "    plt.ylabel('Частота')\n",
        "    plt.savefig(os.path.join(output_dir, filename))\n",
        "    plt.close()\n",
        "\n",
        "def log_transform(image):\n",
        "    arr = np.array(image).astype(float)\n",
        "    c = 255 / np.log(1 + np.max(arr))\n",
        "    log_img = c * np.log(1 + arr)\n",
        "    log_img = np.uint8(np.clip(log_img, 0, 255))\n",
        "    return Image.fromarray(log_img)\n",
        "\n",
        "def power_law_transform(image, gamma):\n",
        "    arr = np.array(image).astype(float) / 255.0\n",
        "    pow_img = np.power(arr, gamma) * 255\n",
        "    pow_img = np.uint8(np.clip(pow_img, 0, 255))\n",
        "    return Image.fromarray(pow_img)\n",
        "\n",
        "def piecewise_linear(image, r1, s1, r2, s2):\n",
        "    arr = np.array(image).astype(float)\n",
        "    out = np.zeros_like(arr)\n",
        "    # первый участок\n",
        "    mask1 = arr <= r1\n",
        "    out[mask1] = (s1/r1) * arr[mask1]\n",
        "    # второй\n",
        "    mask2 = (arr > r1) & (arr <= r2)\n",
        "    out[mask2] = ((s2 - s1)/(r2 - r1)) * (arr[mask2] - r1) + s1\n",
        "    # третий\n",
        "    mask3 = arr > r2\n",
        "    out[mask3] = ((255 - s2)/(255 - r2)) * (arr[mask3] - r2) + s2\n",
        "    out = np.uint8(np.clip(out, 0, 255))\n",
        "    return Image.fromarray(out)\n",
        "\n",
        "def threshold_segmentation(image, thresh):\n",
        "    arr = np.array(image)\n",
        "    seg = np.where(arr > thresh, 255, 0).astype(np.uint8)\n",
        "    return Image.fromarray(seg)\n",
        "\n",
        "# Обработка всех изображений\n",
        "for path in image_paths:\n",
        "    img = Image.open(path).convert('RGB')\n",
        "    base = os.path.splitext(os.path.basename(path))[0]\n",
        "\n",
        "    # 1. Полутоновое преобразование\n",
        "    gray = rgb_to_gray(img)\n",
        "    gray.save(os.path.join(output_dir, f'{base}_gray.png'))\n",
        "    plot_histogram(np.array(gray), f'Гистограмма {base} (gray)', f'{base}_hist_gray.png')\n",
        "\n",
        "    # 3. Лог-преобразование\n",
        "    log_img = log_transform(gray)\n",
        "    log_img.save(os.path.join(output_dir, f'{base}_log.png'))\n",
        "    plot_histogram(np.array(log_img), f'Гистограмма {base} (log)', f'{base}_hist_log.png')\n",
        "\n",
        "    # 4. Гамма-преобразования с разными гамма\n",
        "    for g in [0.5, 1.5, 2.2]:\n",
        "        pow_img = power_law_transform(gray, g)\n",
        "        pow_img.save(os.path.join(output_dir, f'{base}_gamma_{g}.png'))\n",
        "        plot_histogram(np.array(pow_img), f'Гистограмма {base} (gamma={g})', f'{base}_hist_gamma_{g}.png')\n",
        "\n",
        "    # 5. Кусочно-линейные преобразования (два набора)\n",
        "    pw1 = piecewise_linear(gray, r1=70, s1=0, r2=140, s2=255)\n",
        "    pw1.save(os.path.join(output_dir, f'{base}_pw1.png'))\n",
        "    plot_histogram(np.array(pw1), f'Гистограмма {base} (piecewise1)', f'{base}_hist_pw1.png')\n",
        "\n",
        "    pw2 = piecewise_linear(gray, r1=50, s1=30, r2=200, s2=220)\n",
        "    pw2.save(os.path.join(output_dir, f'{base}_pw2.png'))\n",
        "    plot_histogram(np.array(pw2), f'Гистограмма {base} (piecewise2)', f'{base}_hist_pw2.png')\n",
        "\n",
        "    # 6. Пороговая сегментация (выберите порог по гистограмме)\n",
        "    thresh = 128\n",
        "    seg = threshold_segmentation(gray, thresh)\n",
        "    seg.save(os.path.join(output_dir, f'{base}_seg_{thresh}.png'))\n",
        "    plot_histogram(np.array(seg), f'Гистограмма {base} (seg {thresh})', f'{base}_hist_seg_{thresh}.png')\n",
        "\n",
        "print(\"Обработка завершена. Результаты сохранены в папке output.\")"
      ]
    }
  ],
  "metadata": {
    "colab": {
      "provenance": [],
      "include_colab_link": true
    },
    "language_info": {
      "name": "python"
    },
    "kernelspec": {
      "name": "python3",
      "display_name": "Python 3"
    }
  },
  "nbformat": 4,
  "nbformat_minor": 5
}