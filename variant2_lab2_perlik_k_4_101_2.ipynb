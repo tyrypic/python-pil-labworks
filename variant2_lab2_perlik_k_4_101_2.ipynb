{
  "cells": [
    {
      "cell_type": "markdown",
      "metadata": {
        "id": "view-in-github",
        "colab_type": "text"
      },
      "source": [
        "<a href=\"https://colab.research.google.com/github/tyrypic/python-pil-labworks/blob/main/variant2_lab2_perlik_k_4_101_2.ipynb\" target=\"_parent\"><img src=\"https://colab.research.google.com/assets/colab-badge.svg\" alt=\"Open In Colab\"/></a>"
      ]
    },
    {
      "cell_type": "markdown",
      "id": "933eec0d",
      "metadata": {
        "id": "933eec0d"
      },
      "source": [
        "# Лабораторная работа №2: «Черно-белое изображение с порогом. Сепия»\n",
        "**Вариант 2**\n",
        "\n",
        "**Задание:**\n",
        "1. Получить черно-белое изображение по порогу.\n",
        "2. Получить сепия-изображение по глубине.\n",
        "3. Проанализировать влияние вводимых значений.\n",
        "4. Повысить контраст с помощью `autocontrast` (разные параметры).\n",
        "5. Повернуть изображения на 270° против часовой стрелки.\n",
        "\n",
        "Выполните для минимум четырёх изображений.  \n",
        "Поместите исходные файлы в папку `images/`, результаты будут сохранены в `output/`.\n"
      ]
    },
    {
      "cell_type": "code",
      "source": [],
      "metadata": {
        "id": "ludEt3peKMpY"
      },
      "id": "ludEt3peKMpY",
      "execution_count": null,
      "outputs": []
    },
    {
      "cell_type": "code",
      "execution_count": null,
      "id": "796cd716",
      "metadata": {
        "colab": {
          "base_uri": "https://localhost:8080/"
        },
        "id": "796cd716",
        "outputId": "4d76e548-1bc1-450b-9e14-7c26b62243f4"
      },
      "outputs": [
        {
          "output_type": "stream",
          "name": "stdout",
          "text": [
            "Сгенерированы четыре тестовых изображения в папке 'images/'\n",
            "Введите порог (0-255): 100\n",
            "Введите глубину сепии (целое число): 2\n",
            "Обработка завершена. Результаты в папке output\n"
          ]
        }
      ],
      "source": [
        "from PIL import Image, ImageOps, ImageDraw\n",
        "import os\n",
        "\n",
        "\n",
        "# Создаем папку для тестовых изображений\n",
        "os.makedirs('images', exist_ok=True)\n",
        "\n",
        "# 1. Красный квадрат 100×100\n",
        "img1 = Image.new('RGB', (100, 100), (255, 0, 0))\n",
        "img1.save('images/first_lab_image.png')\n",
        "\n",
        "# 2. Зеленый квадрат 100×100\n",
        "img2 = Image.new('RGB', (100, 100), (0, 255, 0))\n",
        "img2.save('images/photo1.jpg')\n",
        "\n",
        "# 3. Синий квадрат 100×100\n",
        "img3 = Image.new('RGB', (100, 100), (0, 0, 255))\n",
        "img3.save('images/photo2.jpg')\n",
        "\n",
        "# 4. Градиент (черно-белый по горизонтали) 100×100\n",
        "img4 = Image.new('RGB', (100, 100))\n",
        "draw = ImageDraw.Draw(img4)\n",
        "for x in range(100):\n",
        "    gray = int(255 * x / 99)\n",
        "    draw.line([(x, 0), (x, 99)], fill=(gray, gray, gray))\n",
        "img4.save('images/photo3.jpg')\n",
        "\n",
        "print(\"Сгенерированы четыре тестовых изображения в папке 'images/'\")\n",
        "\n",
        "# Пути к изображениям (замените на свои файлы)\n",
        "image_paths = [\n",
        "    'images/first_lab_image.png',\n",
        "    'images/photo1.jpg',\n",
        "    'images/photo2.jpg',\n",
        "    'images/photo3.jpg'\n",
        "]\n",
        "\n",
        "output_dir = 'output'\n",
        "os.makedirs(output_dir, exist_ok=True)\n",
        "\n",
        "# Функции преобразований\n",
        "def threshold_bw(img, threshold):\n",
        "    # Конвертация в L, применение порога, возврат в RGB\n",
        "    return img.convert('L').point(lambda p: 255 if p > threshold else 0).convert('RGB')\n",
        "\n",
        "def sepia(img, depth):\n",
        "    gray = img.convert('L')\n",
        "    sepia_img = Image.new('RGB', img.size)\n",
        "    for x in range(img.width):\n",
        "        for y in range(img.height):\n",
        "            p = gray.getpixel((x, y))\n",
        "            r = min(p + 2 * depth, 255)\n",
        "            g = min(p + depth, 255)\n",
        "            b = p\n",
        "            sepia_img.putpixel((x, y), (r, g, b))\n",
        "    return sepia_img\n",
        "\n",
        "# Ввод параметров\n",
        "threshold = int(input('Введите порог (0-255): '))\n",
        "depth = int(input('Введите глубину сепии (целое число): '))\n",
        "\n",
        "# Обработка всех изображений\n",
        "for path in image_paths:\n",
        "    img = Image.open(path)\n",
        "    base = os.path.splitext(os.path.basename(path))[0]\n",
        "\n",
        "    # 1. Черно-белое по порогу\n",
        "    bw = threshold_bw(img, threshold)\n",
        "    bw.save(os.path.join(output_dir, f'{base}_bw_{threshold}.png'))\n",
        "    bw.show(title=f'{base} – Ч/б (порог {threshold})')\n",
        "\n",
        "    # 2. Сепия\n",
        "    sep = sepia(img, depth)\n",
        "    sep.save(os.path.join(output_dir, f'{base}_sepia_{depth}.png'))\n",
        "    sep.show(title=f'{base} – Сепия (глубина {depth})')\n",
        "\n",
        "    # 4. Контраст\n",
        "    ac_default = ImageOps.autocontrast(img)\n",
        "    ac2 = ImageOps.autocontrast(img, cutoff=2)\n",
        "    ac5 = ImageOps.autocontrast(img, cutoff=5)\n",
        "    ac_default.save(os.path.join(output_dir, f'{base}_autocontrast_default.png'))\n",
        "    ac2.save(os.path.join(output_dir, f'{base}_autocontrast_2.png'))\n",
        "    ac5.save(os.path.join(output_dir, f'{base}_autocontrast_5.png'))\n",
        "\n",
        "    # 5. Поворот на 270° против часовой стрелки\n",
        "    rot = img.transpose(Image.ROTATE_270)\n",
        "    rot.save(os.path.join(output_dir, f'{base}_rot270.png'))\n",
        "\n",
        "print('Обработка завершена. Результаты в папке', output_dir)"
      ]
    }
  ],
  "metadata": {
    "colab": {
      "provenance": [],
      "include_colab_link": true
    },
    "language_info": {
      "name": "python"
    },
    "kernelspec": {
      "name": "python3",
      "display_name": "Python 3"
    }
  },
  "nbformat": 4,
  "nbformat_minor": 5
}