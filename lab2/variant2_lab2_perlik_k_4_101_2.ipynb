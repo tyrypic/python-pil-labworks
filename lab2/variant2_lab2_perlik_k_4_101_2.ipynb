{
  "cells": [
    {
      "cell_type": "markdown",
      "metadata": {
        "id": "view-in-github"
      },
      "source": [
        "<a href=\"https://colab.research.google.com/github/tyrypic/python-pil-labworks/blob/main/variant2_lab2_perlik_k_4_101_2.ipynb\" target=\"_parent\"><img src=\"https://colab.research.google.com/assets/colab-badge.svg\" alt=\"Open In Colab\"/></a>"
      ],
      "id": "view-in-github"
    },
    {
      "cell_type": "markdown",
      "id": "933eec0d",
      "metadata": {
        "id": "933eec0d"
      },
      "source": [
        "# Лабораторная работа №2: «Черно-белое изображение с порогом. Сепия»\n",
        "**Вариант 2**\n",
        "\n",
        "**Задание:**\n",
        "1. Получить черно-белое изображение по порогу.\n",
        "2. Получить сепия-изображение по глубине.\n",
        "3. Проанализировать влияние вводимых значений.\n",
        "4. Повысить контраст с помощью `autocontrast` (разные параметры).\n",
        "5. Повернуть изображения на 270° против часовой стрелки.\n",
        "\n",
        "Выполните для минимум четырёх изображений.  \n",
        "Поместите исходные файлы в папку `images/`, результаты будут сохранены в `output/`.\n"
      ]
    },
    {
      "cell_type": "code",
      "source": [],
      "metadata": {
        "id": "ludEt3peKMpY"
      },
      "id": "ludEt3peKMpY",
      "execution_count": null,
      "outputs": []
    },
    {
      "cell_type": "code",
      "execution_count": null,
      "id": "796cd716",
      "metadata": {
        "colab": {
          "base_uri": "https://localhost:8080/",
          "height": 1000
        },
        "id": "796cd716",
        "outputId": "92680582-764d-4021-d73d-df94c60d3537"
      },
      "outputs": [
        {
          "output_type": "stream",
          "name": "stdout",
          "text": [
            "Сгенерированы 4 асимметричных тестовых изображения: arrow.png, letter_L.png, diagonal_stripes.png, vertical_gradient.png\n",
            "Введите порог (0–255): 200\n",
            "Введите глубину сепии: 100\n",
            "--- first_lab_image: Ч/б (порог=200) ---\n"
          ]
        },
        {
          "output_type": "display_data",
          "data": {
            "text/plain": [
              "<PIL.Image.Image image mode=RGB size=100x100>"
            ],
            "image/png": "[encoded data removed]",
            "image/jpeg": "[encoded data removed]"
          },
          "metadata": {}
        },
        {
          "output_type": "stream",
          "name": "stdout",
          "text": [
            "--- first_lab_image: Сепия (глубина=100) ---\n"
          ]
        },
        {
          "output_type": "display_data",
          "data": {
            "text/plain": [
              "<PIL.Image.Image image mode=RGB size=100x100>"
            ],
            "image/png": "[encoded data removed]",
            "image/jpeg": "[encoded data removed]"
          },
          "metadata": {}
        },
        {
          "output_type": "stream",
          "name": "stdout",
          "text": [
            "--- first_lab_image: Autocontrast (default) ---\n"
          ]
        },
        {
          "output_type": "display_data",
          "data": {
            "text/plain": [
              "<PIL.Image.Image image mode=RGB size=100x100>"
            ],
            "image/png": "[encoded data removed]",
            "image/jpeg": "[encoded data removed]"
          },
          "metadata": {}
        },
        {
          "output_type": "stream",
          "name": "stdout",
          "text": [
            "--- first_lab_image: Autocontrast (cutoff=2) ---\n"
          ]
        },
        {
          "output_type": "display_data",
          "data": {
            "text/plain": [
              "<PIL.Image.Image image mode=RGB size=100x100>"
            ],
            "image/png": "[encoded data removed]",
            "image/jpeg": "[encoded data removed]"
          },
          "metadata": {}
        },
        {
          "output_type": "stream",
          "name": "stdout",
          "text": [
            "--- first_lab_image: Autocontrast (cutoff=5) ---\n"
          ]
        },
        {
          "output_type": "display_data",
          "data": {
            "text/plain": [
              "<PIL.Image.Image image mode=RGB size=100x100>"
            ],
            "image/png": "[encoded data removed]",
            "image/jpeg": "[encoded data removed]"
          },
          "metadata": {}
        },
        {
          "output_type": "stream",
          "name": "stdout",
          "text": [
            "--- first_lab_image: Поворот 270° ---\n"
          ]
        },
        {
          "output_type": "display_data",
          "data": {
            "text/plain": [
              "<PIL.Image.Image image mode=RGB size=100x100>"
            ],
            "image/png": "[encoded data removed]",
            "image/jpeg": "[encoded data removed]"
          },
          "metadata": {}
        },
        {
          "output_type": "stream",
          "name": "stdout",
          "text": [
            "--- arrow: Ч/б (порог=200) ---\n"
          ]
        },
        {
          "output_type": "display_data",
          "data": {
            "text/plain": [
              "<PIL.Image.Image image mode=RGB size=100x100>"
            ],
            "image/png": "[encoded data removed]",
            "image/jpeg": "[encoded data removed]"
          },
          "metadata": {}
        },
        {
          "output_type": "stream",
          "name": "stdout",
          "text": [
            "--- arrow: Сепия (глубина=100) ---\n"
          ]
        },
        {
          "output_type": "display_data",
          "data": {
            "text/plain": [
              "<PIL.Image.Image image mode=RGB size=100x100>"
            ],
            "image/png": "[encoded data removed]",
            "image/jpeg": "[encoded data removed]"
          },
          "metadata": {}
        },
        {
          "output_type": "stream",
          "name": "stdout",
          "text": [
            "--- arrow: Autocontrast (default) ---\n"
          ]
        },
        {
          "output_type": "display_data",
          "data": {
            "text/plain": [
              "<PIL.Image.Image image mode=RGB size=100x100>"
            ],
            "image/png": "[encoded data removed]",
            "image/jpeg": "[encoded data removed]"
          },
          "metadata": {}
        },
        {
          "output_type": "stream",
          "name": "stdout",
          "text": [
            "--- arrow: Autocontrast (cutoff=2) ---\n"
          ]
        },
        {
          "output_type": "display_data",
          "data": {
            "text/plain": [
              "<PIL.Image.Image image mode=RGB size=100x100>"
            ],
            "image/png": "[encoded data removed]",
            "image/jpeg": "[encoded data removed]"
          },
          "metadata": {}
        },
        {
          "output_type": "stream",
          "name": "stdout",
          "text": [
            "--- arrow: Autocontrast (cutoff=5) ---\n"
          ]
        },
        {
          "output_type": "display_data",
          "data": {
            "text/plain": [
              "<PIL.Image.Image image mode=RGB size=100x100>"
            ],
            "image/png": "[encoded data removed]",
            "image/jpeg": "[encoded data removed]"
          },
          "metadata": {}
        },
        {
          "output_type": "stream",
          "name": "stdout",
          "text": [
            "--- arrow: Поворот 270° ---\n"
          ]
        },
        {
          "output_type": "display_data",
          "data": {
            "text/plain": [
              "<PIL.Image.Image image mode=RGB size=100x100>"
            ],
            "image/png": "[encoded data removed]",
            "image/jpeg": "[encoded data removed]"
          },
          "metadata": {}
        },
        {
          "output_type": "stream",
          "name": "stdout",
          "text": [
            "--- vertical_gradient: Ч/б (порог=200) ---\n"
          ]
        },
        {
          "output_type": "display_data",
          "data": {
            "text/plain": [
              "<PIL.Image.Image image mode=RGB size=100x100>"
            ],
            "image/png": "[encoded data removed]",
            "image/jpeg": "[encoded data removed]"
          },
          "metadata": {}
        },
        {
          "output_type": "stream",
          "name": "stdout",
          "text": [
            "--- vertical_gradient: Сепия (глубина=100) ---\n"
          ]
        },
        {
          "output_type": "display_data",
          "data": {
            "text/plain": [
              "<PIL.Image.Image image mode=RGB size=100x100>"
            ],
            "image/png": "[encoded data removed]",
            "image/jpeg": "[encoded data removed]"
          },
          "metadata": {}
        },
        {
          "output_type": "stream",
          "name": "stdout",
          "text": [
            "--- vertical_gradient: Autocontrast (default) ---\n"
          ]
        },
        {
          "output_type": "display_data",
          "data": {
            "text/plain": [
              "<PIL.Image.Image image mode=RGB size=100x100>"
            ],
            "image/png": "[encoded data removed]",
            "image/jpeg": "[encoded data removed]"
          },
          "metadata": {}
        },
        {
          "output_type": "stream",
          "name": "stdout",
          "text": [
            "--- vertical_gradient: Autocontrast (cutoff=2) ---\n"
          ]
        },
        {
          "output_type": "display_data",
          "data": {
            "text/plain": [
              "<PIL.Image.Image image mode=RGB size=100x100>"
            ],
            "image/png": "[encoded data removed]",
            "image/jpeg": "[encoded data removed]"
          },
          "metadata": {}
        },
        {
          "output_type": "stream",
          "name": "stdout",
          "text": [
            "--- vertical_gradient: Autocontrast (cutoff=5) ---\n"
          ]
        },
        {
          "output_type": "display_data",
          "data": {
            "text/plain": [
              "<PIL.Image.Image image mode=RGB size=100x100>"
            ],
            "image/png": "[encoded data removed]",
            "image/jpeg": "[encoded data removed]"
          },
          "metadata": {}
        },
        {
          "output_type": "stream",
          "name": "stdout",
          "text": [
            "--- vertical_gradient: Поворот 270° ---\n"
          ]
        },
        {
          "output_type": "display_data",
          "data": {
            "text/plain": [
              "<PIL.Image.Image image mode=RGB size=100x100>"
            ],
            "image/png": "[encoded data removed]",
            "image/jpeg": "[encoded data removed]"
          },
          "metadata": {}
        },
        {
          "output_type": "stream",
          "name": "stdout",
          "text": [
            "--- diagonal_stripes: Ч/б (порог=200) ---\n"
          ]
        },
        {
          "output_type": "display_data",
          "data": {
            "text/plain": [
              "<PIL.Image.Image image mode=RGB size=100x100>"
            ],
            "image/png": "[encoded data removed]",
            "image/jpeg": "[encoded data removed]"
          },
          "metadata": {}
        },
        {
          "output_type": "stream",
          "name": "stdout",
          "text": [
            "--- diagonal_stripes: Сепия (глубина=100) ---\n"
          ]
        },
        {
          "output_type": "display_data",
          "data": {
            "text/plain": [
              "<PIL.Image.Image image mode=RGB size=100x100>"
            ],
            "image/png": "[encoded data removed]",
            "image/jpeg": "[encoded data removed]"
          },
          "metadata": {}
        },
        {
          "output_type": "stream",
          "name": "stdout",
          "text": [
            "--- diagonal_stripes: Autocontrast (default) ---\n"
          ]
        },
        {
          "output_type": "display_data",
          "data": {
            "text/plain": [
              "<PIL.Image.Image image mode=RGB size=100x100>"
            ],
            "image/png": "[encoded data removed]",
            "image/jpeg": "[encoded data removed]"
          },
          "metadata": {}
        },
        {
          "output_type": "stream",
          "name": "stdout",
          "text": [
            "--- diagonal_stripes: Autocontrast (cutoff=2) ---\n"
          ]
        },
        {
          "output_type": "display_data",
          "data": {
            "text/plain": [
              "<PIL.Image.Image image mode=RGB size=100x100>"
            ],
            "image/png": "[encoded data removed]",
            "image/jpeg": "[encoded data removed]"
          },
          "metadata": {}
        },
        {
          "output_type": "stream",
          "name": "stdout",
          "text": [
            "--- diagonal_stripes: Autocontrast (cutoff=5) ---\n"
          ]
        },
        {
          "output_type": "display_data",
          "data": {
            "text/plain": [
              "<PIL.Image.Image image mode=RGB size=100x100>"
            ],
            "image/png": "[encoded data removed]",
            "image/jpeg": "[encoded data removed]"
          },
          "metadata": {}
        },
        {
          "output_type": "stream",
          "name": "stdout",
          "text": [
            "--- diagonal_stripes: Поворот 270° ---\n"
          ]
        },
        {
          "output_type": "display_data",
          "data": {
            "text/plain": [
              "<PIL.Image.Image image mode=RGB size=100x100>"
            ],
            "image/png": "[encoded data removed]",
            "image/jpeg": "[encoded data removed]"
          },
          "metadata": {}
        },
        {
          "output_type": "stream",
          "name": "stdout",
          "text": [
            "--- letter_L: Ч/б (порог=200) ---\n"
          ]
        },
        {
          "output_type": "display_data",
          "data": {
            "text/plain": [
              "<PIL.Image.Image image mode=RGB size=100x100>"
            ],
            "image/png": "[encoded data removed]",
            "image/jpeg": "[encoded data removed]"
          },
          "metadata": {}
        },
        {
          "output_type": "stream",
          "name": "stdout",
          "text": [
            "--- letter_L: Сепия (глубина=100) ---\n"
          ]
        },
        {
          "output_type": "display_data",
          "data": {
            "text/plain": [
              "<PIL.Image.Image image mode=RGB size=100x100>"
            ],
            "image/png": "[encoded data removed]",
            "image/jpeg": "[encoded data removed]"
          },
          "metadata": {}
        },
        {
          "output_type": "stream",
          "name": "stdout",
          "text": [
            "--- letter_L: Autocontrast (default) ---\n"
          ]
        },
        {
          "output_type": "display_data",
          "data": {
            "text/plain": [
              "<PIL.Image.Image image mode=RGB size=100x100>"
            ],
            "image/png": "[encoded data removed]",
            "image/jpeg": "[encoded data removed]"
          },
          "metadata": {}
        },
        {
          "output_type": "stream",
          "name": "stdout",
          "text": [
            "--- letter_L: Autocontrast (cutoff=2) ---\n"
          ]
        },
        {
          "output_type": "display_data",
          "data": {
            "text/plain": [
              "<PIL.Image.Image image mode=RGB size=100x100>"
            ],
            "image/png": "[encoded data removed]",
            "image/jpeg": "[encoded data removed]"
          },
          "metadata": {}
        },
        {
          "output_type": "stream",
          "name": "stdout",
          "text": [
            "--- letter_L: Autocontrast (cutoff=5) ---\n"
          ]
        },
        {
          "output_type": "display_data",
          "data": {
            "text/plain": [
              "<PIL.Image.Image image mode=RGB size=100x100>"
            ],
            "image/png": "[encoded data removed]",
            "image/jpeg": "[encoded data removed]"
          },
          "metadata": {}
        },
        {
          "output_type": "stream",
          "name": "stdout",
          "text": [
            "--- letter_L: Поворот 270° ---\n"
          ]
        },
        {
          "output_type": "display_data",
          "data": {
            "text/plain": [
              "<PIL.Image.Image image mode=RGB size=100x100>"
            ],
            "image/png": "[encoded data removed]",
            "image/jpeg": "[encoded data removed]"
          },
          "metadata": {}
        }
      ],
      "source": [
        "# from PIL import Image, ImageOps, ImageDraw\n",
        "# import os\n",
        "\n",
        "\n",
        "# # Создаем папку для тестовых изображений\n",
        "# os.makedirs('images', exist_ok=True)\n",
        "\n",
        "# # 1. Красный квадрат 100×100\n",
        "# img1 = Image.new('RGB', (100, 100), (255, 0, 0))\n",
        "# img1.save('images/first_lab_image.png')\n",
        "\n",
        "# # 2. Зеленый квадрат 100×100\n",
        "# img2 = Image.new('RGB', (100, 100), (0, 255, 0))\n",
        "# img2.save('images/photo1.jpg')\n",
        "\n",
        "# # 3. Синий квадрат 100×100\n",
        "# img3 = Image.new('RGB', (100, 100), (0, 0, 255))\n",
        "# img3.save('images/photo2.jpg')\n",
        "\n",
        "# # 4. Градиент (черно-белый по горизонтали) 100×100\n",
        "# img4 = Image.new('RGB', (100, 100))\n",
        "# draw = ImageDraw.Draw(img4)\n",
        "# for x in range(100):\n",
        "#     gray = int(255 * x / 99)\n",
        "#     draw.line([(x, 0), (x, 99)], fill=(gray, gray, gray))\n",
        "# img4.save('images/photo3.jpg')\n",
        "\n",
        "# print(\"Сгенерированы четыре тестовых изображения в папке 'images/'\")\n",
        "\n",
        "from PIL import Image, ImageDraw, ImageFont\n",
        "import os\n",
        "\n",
        "# Создаем папку, если нет\n",
        "os.makedirs('images', exist_ok=True)\n",
        "\n",
        "# 1. Стрелка\n",
        "img1 = Image.new('RGB', (100, 100), 'white')\n",
        "draw1 = ImageDraw.Draw(img1)\n",
        "# Рисуем стрелку\n",
        "draw1.polygon([(20, 80), (20, 50), (60, 50), (60, 20), (80, 50), (60, 80)], fill='red')\n",
        "img1.save('images/arrow.png')\n",
        "\n",
        "# 2. Буква 'L'\n",
        "img2 = Image.new('RGB', (100, 100), 'white')\n",
        "draw2 = ImageDraw.Draw(img2)\n",
        "try:\n",
        "    font = ImageFont.truetype(\"arial.ttf\", 80)\n",
        "except:\n",
        "    font = ImageFont.load_default()\n",
        "draw2.text((10, 0), \"L\", font=font, fill='blue')\n",
        "img2.save('images/letter_L.png')\n",
        "\n",
        "# 3. Диагональные полосы\n",
        "img3 = Image.new('RGB', (100, 100), 'white')\n",
        "draw3 = ImageDraw.Draw(img3)\n",
        "for i in range(-100, 100, 10):\n",
        "    draw3.line([(i, 0), (i + 100, 100)], fill='green', width=3)\n",
        "img3.save('images/diagonal_stripes.png')\n",
        "\n",
        "# 4. Вертикальный градиент\n",
        "img4 = Image.new('RGB', (100, 100))\n",
        "draw4 = ImageDraw.Draw(img4)\n",
        "for x in range(100):\n",
        "    r = int(255 * x / 99)\n",
        "    g = int(255 * (99 - x) / 99)\n",
        "    draw4.line([(x, 0), (x, 99)], fill=(r, g, 128))\n",
        "img4.save('images/vertical_gradient.png')\n",
        "\n",
        "print(\"Сгенерированы 4 асимметричных тестовых изображения: arrow.png, letter_L.png, diagonal_stripes.png, vertical_gradient.png\")\n",
        "\n",
        "# Пути к изображениям (замените на свои файлы)\n",
        "image_paths = [\n",
        "    'images/first_lab_image.png',\n",
        "    'images/arrow.png',\n",
        "    'images/vertical_gradient.png',\n",
        "    'images/diagonal_stripes.png',\n",
        "    'images/letter_L.png'\n",
        "]\n",
        "\n",
        "output_dir = 'output'\n",
        "os.makedirs(output_dir, exist_ok=True)\n",
        "\n",
        "# Функции преобразований\n",
        "def threshold_bw(img, threshold):\n",
        "    return img.convert('L')\\\n",
        "              .point(lambda p: 255 if p > threshold else 0)\\\n",
        "              .convert('RGB')\n",
        "\n",
        "def sepia(img, depth):\n",
        "    gray = img.convert('L')\n",
        "    sep = Image.new('RGB', img.size)\n",
        "    for x in range(img.width):\n",
        "        for y in range(img.height):\n",
        "            p = gray.getpixel((x,y))\n",
        "            r = min(p + 2*depth, 255)\n",
        "            g = min(p + depth,   255)\n",
        "            b = p\n",
        "            sep.putpixel((x,y), (r,g,b))\n",
        "    return sep\n",
        "\n",
        "# Ввод параметров\n",
        "threshold = int(input('Введите порог (0–255): '))\n",
        "depth     = int(input('Введите глубину сепии: '))\n",
        "\n",
        "for path in image_paths:\n",
        "    img  = Image.open(path)\n",
        "    base = os.path.splitext(os.path.basename(path))[0]\n",
        "\n",
        "    # 1) Ч/б по порогу\n",
        "    bw = threshold_bw(img, threshold)\n",
        "    print(f'--- {base}: Ч/б (порог={threshold}) ---')\n",
        "    display(bw)\n",
        "    # при желании сохраняем\n",
        "    bw.save(f'{output_dir}/{base}_bw_{threshold}.png')\n",
        "\n",
        "    # 2) Сепия\n",
        "    sep = sepia(img, depth)\n",
        "    print(f'--- {base}: Сепия (глубина={depth}) ---')\n",
        "    display(sep)\n",
        "    sep.save(f'{output_dir}/{base}_sepia_{depth}.png')\n",
        "\n",
        "    # 4) Autocontrast\n",
        "    print(f'--- {base}: Autocontrast (default) ---')\n",
        "    ac0 = ImageOps.autocontrast(img)\n",
        "    display(ac0)\n",
        "    ac0.save(f'{output_dir}/{base}_ac_default.png')\n",
        "\n",
        "    print(f'--- {base}: Autocontrast (cutoff=2) ---')\n",
        "    ac2 = ImageOps.autocontrast(img, cutoff=2)\n",
        "    display(ac2)\n",
        "    ac2.save(f'{output_dir}/{base}_ac_2.png')\n",
        "\n",
        "    print(f'--- {base}: Autocontrast (cutoff=5) ---')\n",
        "    ac5 = ImageOps.autocontrast(img, cutoff=5)\n",
        "    display(ac5)\n",
        "    ac5.save(f'{output_dir}/{base}_ac_5.png')\n",
        "\n",
        "    # 5) Поворот на 270° против часовой стрелки\n",
        "    print(f'--- {base}: Поворот 270° ---')\n",
        "    rot = img.transpose(Image.ROTATE_270)\n",
        "    display(rot)\n",
        "    rot.save(f'{output_dir}/{base}_rot270.png')"
      ]
    },
    {
      "cell_type": "markdown",
      "source": [
        "## Лабораторная № 2: «Черно-белое изображение с порогом. Сепия»\n",
        "\n",
        "1. **Пороговая ч/б сегментация**\n",
        "   При пороговой сегментации каждый пиксель сравнивается с пороговым значением T. Если его яркость > T, то пиксель становится белым (255), иначе — чёрным (0). Это простой способ выделения объектов на однородном фоне, когда нужные объекты ярче или темнее. Изменяя T, мы регулируем, насколько «жёстко» будет выполняться разделение: при низких порогах останутся только самые яркие детали, при высоких — почти всё изображение станет чёрным.\n",
        "\n",
        "2. **Сепия-эффект и глубина**\n",
        "   Сепия — это цветовое тонирование, превращающее картинку в «старинную» коричневатую палитру. Глубина D задаёт, насколько сильно мы смещаем каналы R и G относительно исходной яркости:\n",
        "\n",
        "   ```python\n",
        "   R = min(Y + 2·D, 255),  \n",
        "   G = min(Y + D,   255),  \n",
        "   B = Y  \n",
        "   ```\n",
        "\n",
        "   При большем D картинка становится тёплее, «более желтоватой», а при малом — почти ч/б.\n",
        "\n",
        "3. **Автоконтраст (autocontrast)**\n",
        "   Функция `autocontrast` автоматически растягивает гистограмму яркостей так, чтобы самые тёмные и светлые пиксели стали чёрными и белыми, соответственно. Параметр `cutoff` позволяет отрезать крайние проценты пикселей (шум или выбросы) перед растяжением: при `cutoff=0` всё растягивается, при `cutoff=5` игнорируется 5% самых тёмных и 5% самых светлых.\n",
        "\n",
        "4. **Поворот на 270°**\n",
        "   Просто меняет ориентацию изображения, что может быть полезно для корректного отображения или для дальнейшего анализа, когда ориентация играет роль."
      ],
      "metadata": {
        "id": "qsN06-q3BAbY"
      },
      "id": "qsN06-q3BAbY"
    }
  ],
  "metadata": {
    "colab": {
      "provenance": []
    },
    "language_info": {
      "name": "python"
    },
    "kernelspec": {
      "name": "python3",
      "display_name": "Python 3"
    }
  },
  "nbformat": 4,
  "nbformat_minor": 5
}