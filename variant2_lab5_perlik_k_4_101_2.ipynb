{
  "cells": [
    {
      "cell_type": "markdown",
      "metadata": {
        "id": "view-in-github",
        "colab_type": "text"
      },
      "source": [
        "<a href=\"https://colab.research.google.com/github/tyrypic/python-pil-labworks/blob/main/variant2_lab5_perlik_k_4_101_2.ipynb\" target=\"_parent\"><img src=\"https://colab.research.google.com/assets/colab-badge.svg\" alt=\"Open In Colab\"/></a>"
      ]
    },
    {
      "cell_type": "markdown",
      "id": "74c765a5",
      "metadata": {
        "id": "74c765a5"
      },
      "source": [
        "# Лабораторная работа №5: «Операции морфологии при обработке изображений»\n",
        "**Вариант 2**\n",
        "\n",
        "**Цель:** Познакомиться с основными операциями математической морфологии из библиотеки OpenCV.\n",
        "\n",
        "**Задание:**\n",
        "1. Откройте изображение `Morph.jpg`. Примените дилатацию и эрозию с элементами «крест», «прямоугольник», «эллипс» размером 3×3 и 5×5, и с 1, 3, 5 итерациями. Сохраните и поясните результаты.\n",
        "2. Сравните результаты операции закрытия (`closing`) с последовательным применением дилатации и эрозии.\n",
        "3. Сравните результаты операции открытия (`opening`) с последовательным применением эрозии и дилатации.\n",
        "4. Для всех изображений найдите границы: `boundary(A,B) = A - erode(A,B)` и сохраните результаты для каждого элемента.\n",
        "5. Подберите элемент, который наилучшим образом сглаживает углы на `morph.bmp` и `morph2.bmp`. Операции и объяснения сохраните.\n",
        "6. Бинаризуйте `morph3.bmp` порогом, найдите и нарисуйте контуры каждого объекта. Сохраните результаты.\n",
        "7. Откройте `Fingerprint.jpg` и разработайте последовательность морфологических операций для выделения отпечатка. Сохраните финальный результат.\n",
        "\n",
        "*Исходные файлы разместите в папке `images/`, результаты генерируйте в `output/`.*"
      ]
    },
    {
      "cell_type": "code",
      "execution_count": 2,
      "id": "cfd3dc83",
      "metadata": {
        "colab": {
          "base_uri": "https://localhost:8080/"
        },
        "id": "cfd3dc83",
        "outputId": "e24db60b-6f2a-4d70-bc44-f9aae0ab534b"
      },
      "outputs": [
        {
          "output_type": "stream",
          "name": "stdout",
          "text": [
            "Обработка завершена. Результаты сохранены в папке output.\n"
          ]
        }
      ],
      "source": [
        "import cv2\n",
        "import numpy as np\n",
        "import os\n",
        "\n",
        "# --- Настройка директорий ---\n",
        "image_dir  = 'images'\n",
        "output_dir = 'output'\n",
        "os.makedirs(output_dir, exist_ok=True)\n",
        "\n",
        "# --- Вспомогательная функция загрузки и проверки ---\n",
        "def load_gray(fname):\n",
        "    path = os.path.join(image_dir, fname)\n",
        "    img  = cv2.imread(path, cv2.IMREAD_GRAYSCALE)\n",
        "    if img is None:\n",
        "        raise FileNotFoundError(f\"Не найдено или не удалось загрузить: {path}\")\n",
        "    return img\n",
        "\n",
        "# --- Загрузка изображений с правильными именами файлов ---\n",
        "morph   = load_gray('Morph.jpg')\n",
        "morph2  = load_gray('morph2.bmp')\n",
        "morph3  = load_gray('morph3.bmp')\n",
        "finger  = load_gray('Fingerprint.jpg')\n",
        "\n",
        "# --- Определение структурных элементов для морфологии ---\n",
        "elems = {\n",
        "    'cross_3':   cv2.getStructuringElement(cv2.MORPH_CROSS,   (3,3)),\n",
        "    'rect_3':    cv2.getStructuringElement(cv2.MORPH_RECT,    (3,3)),\n",
        "    'ellipse_3': cv2.getStructuringElement(cv2.MORPH_ELLIPSE, (3,3)),\n",
        "    'cross_5':   cv2.getStructuringElement(cv2.MORPH_CROSS,   (5,5)),\n",
        "    'rect_5':    cv2.getStructuringElement(cv2.MORPH_RECT,    (5,5)),\n",
        "    'ellipse_5': cv2.getStructuringElement(cv2.MORPH_ELLIPSE, (5,5)),\n",
        "}\n",
        "\n",
        "# 1. Дилатация и эрозия для Morph.jpg\n",
        "for name, ker in elems.items():\n",
        "    for it in (1, 3, 5):\n",
        "        dil = cv2.dilate(morph, ker, iterations=it)\n",
        "        ero = cv2.erode (morph, ker, iterations=it)\n",
        "        cv2.imwrite(os.path.join(output_dir, f'Morph_{name}_dil_{it}.png'), dil)\n",
        "        cv2.imwrite(os.path.join(output_dir, f'Morph_{name}_ero_{it}.png'), ero)\n",
        "\n",
        "# 2. Closing vs последовательность dil->ero\n",
        "for name, ker in elems.items():\n",
        "    close_cv  = cv2.morphologyEx(morph, cv2.MORPH_CLOSE, ker)\n",
        "    seq_close = cv2.erode(cv2.dilate(morph, ker, 1), ker, 1)\n",
        "    cv2.imwrite(os.path.join(output_dir, f'Morph_{name}_closing.png'),    close_cv)\n",
        "    cv2.imwrite(os.path.join(output_dir, f'Morph_{name}_seq_close.png'), seq_close)\n",
        "\n",
        "# 3. Opening vs последовательность ero->dil\n",
        "for name, ker in elems.items():\n",
        "    open_cv  = cv2.morphologyEx(morph, cv2.MORPH_OPEN, ker)\n",
        "    seq_open = cv2.dilate(cv2.erode(morph, ker, 1), ker, 1)\n",
        "    cv2.imwrite(os.path.join(output_dir, f'Morph_{name}_opening.png'),    open_cv)\n",
        "    cv2.imwrite(os.path.join(output_dir, f'Morph_{name}_seq_open.png'),  seq_open)\n",
        "\n",
        "# 4. Границы (boundary = A - erode(A))\n",
        "#    Применяем только к тем изображениям, которые действительно загрузились:\n",
        "boundary_images = {\n",
        "    'Morph':  morph,\n",
        "    'morph2': morph2,\n",
        "}\n",
        "\n",
        "for tag, img in boundary_images.items():\n",
        "    for name, ker in elems.items():\n",
        "        ero      = cv2.erode(img, ker, iterations=1)\n",
        "        boundary = cv2.subtract(img, ero)\n",
        "        cv2.imwrite(os.path.join(output_dir, f'{tag}_{name}_boundary.png'), boundary)\n",
        "\n",
        "# 5. Сглаживание углов для morph2.bmp и morph3.bmp\n",
        "smooth2 = cv2.morphologyEx(morph2, cv2.MORPH_CLOSE, elems['ellipse_5'])\n",
        "smooth3 = cv2.morphologyEx(morph3, cv2.MORPH_CLOSE, elems['ellipse_5'])\n",
        "cv2.imwrite(os.path.join(output_dir, 'morph2_smooth_ellipse5.png'), smooth2)\n",
        "cv2.imwrite(os.path.join(output_dir, 'morph3_smooth_ellipse5.png'), smooth3)\n",
        "\n",
        "# 6. Бинаризация и контуры для morph3.bmp\n",
        "_, bw3      = cv2.threshold(morph3, 127, 255, cv2.THRESH_BINARY)\n",
        "contours, _ = cv2.findContours(bw3, cv2.RETR_EXTERNAL, cv2.CHAIN_APPROX_SIMPLE)\n",
        "color       = cv2.cvtColor(morph3, cv2.COLOR_GRAY2BGR)\n",
        "cv2.drawContours(color, contours, -1, (0,0,255), 2)\n",
        "cv2.imwrite(os.path.join(output_dir, 'morph3_contours.png'), color)\n",
        "\n",
        "# 7. Выделение отпечатка пальца из Fingerprint.jpg\n",
        "blur     = cv2.GaussianBlur(finger, (5,5), 0)\n",
        "_, bwf   = cv2.threshold(blur, 100, 255, cv2.THRESH_BINARY_INV)\n",
        "kernel   = cv2.getStructuringElement(cv2.MORPH_ELLIPSE, (3,3))\n",
        "fp_clean = cv2.morphologyEx(bwf, cv2.MORPH_OPEN, kernel, iterations=2)\n",
        "cv2.imwrite(os.path.join(output_dir, 'Fingerprint_extracted.png'), fp_clean)\n",
        "\n",
        "print('Обработка завершена. Результаты сохранены в папке output.')\n"
      ]
    }
  ],
  "metadata": {
    "colab": {
      "provenance": [],
      "include_colab_link": true
    },
    "language_info": {
      "name": "python"
    },
    "kernelspec": {
      "name": "python3",
      "display_name": "Python 3"
    }
  },
  "nbformat": 4,
  "nbformat_minor": 5
}