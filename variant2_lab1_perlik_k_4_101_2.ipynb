{
  "cells": [
    {
      "cell_type": "markdown",
      "metadata": {
        "id": "view-in-github",
        "colab_type": "text"
      },
      "source": [
        "<a href=\"https://colab.research.google.com/github/tyrypic/python-pil-labworks/blob/main/variant2_lab1_perlik_k_4_101_2.ipynb\" target=\"_parent\"><img src=\"https://colab.research.google.com/assets/colab-badge.svg\" alt=\"Open In Colab\"/></a>"
      ]
    },
    {
      "cell_type": "markdown",
      "id": "c126e077",
      "metadata": {
        "id": "c126e077"
      },
      "source": [
        "# Детский рисунок – Вариант 2\n",
        "Ночь, полная луна, едущий автомобиль (хэтчбек) светит фарами – вид сбоку"
      ]
    },
    {
      "cell_type": "code",
      "execution_count": null,
      "id": "3aa719a6",
      "metadata": {
        "id": "3aa719a6"
      },
      "outputs": [],
      "source": [
        "from PIL import Image, ImageDraw\n",
        "from IPython.display import display\n",
        "\n",
        "# Set image dimensions\n",
        "width, height = 800, 600\n",
        "image = Image.new('RGB', (width, height), 'black')\n",
        "draw = ImageDraw.Draw(image)\n",
        "\n",
        "# Draw stars\n",
        "star_coords = [(50,50),(120,80),(200,40),(300,100),(400,60),(500,30),(600,90),(700,50),(350,150),(450,120)]\n",
        "for x, y in star_coords:\n",
        "    r = 2\n",
        "    draw.ellipse((x-r, y-r, x+r, y+r), fill='white')\n",
        "\n",
        "# Draw full moon\n",
        "moon_radius = 50\n",
        "moon_x, moon_y = int(0.8 * width), int(0.2 * height)\n",
        "draw.ellipse((moon_x-moon_radius, moon_y-moon_radius, moon_x+moon_radius, moon_y+moon_radius), fill='lightyellow')\n",
        "\n",
        "# Draw car body (hatchback)\n",
        "car_x0, car_y0 = 200, int(0.75 * height)\n",
        "car_width, car_height = 200, 50\n",
        "draw.rectangle((car_x0, car_y0, car_x0 + car_width, car_y0 + car_height), fill='blue')\n",
        "\n",
        "# Draw wheels\n",
        "wheel_r = 20\n",
        "wheel_centers = [(car_x0+30, car_y0+car_height+wheel_r), (car_x0+car_width-30, car_y0+car_height+wheel_r)]\n",
        "for cx, cy in wheel_centers:\n",
        "    draw.ellipse((cx-wheel_r, cy-wheel_r, cx+wheel_r, cy+wheel_r), fill='gray')\n",
        "\n",
        "# Draw headlights\n",
        "headlight_length = 80\n",
        "body_mid_y = car_y0 + car_height // 2\n",
        "headlight_triangle = [\n",
        "    (car_x0 + car_width, body_mid_y),\n",
        "    (car_x0 + car_width + headlight_length, body_mid_y - 15),\n",
        "    (car_x0 + car_width + headlight_length, body_mid_y + 15)\n",
        "]\n",
        "draw.polygon(headlight_triangle, fill='yellow')\n",
        "\n",
        "# Display and save the image\n",
        "display(image)\n",
        "image.save('variant2_drawing.png')"
      ]
    }
  ],
  "metadata": {
    "colab": {
      "provenance": [],
      "include_colab_link": true
    }
  },
  "nbformat": 4,
  "nbformat_minor": 5
}